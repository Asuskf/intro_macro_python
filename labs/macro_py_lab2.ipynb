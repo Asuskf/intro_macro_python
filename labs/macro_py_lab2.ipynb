{
  "nbformat": 4,
  "nbformat_minor": 0,
  "metadata": {
    "colab": {
      "provenance": [],
      "authorship_tag": "ABX9TyPcucqQddSDikwIz9Q8tKWX",
      "include_colab_link": true
    },
    "kernelspec": {
      "name": "python3",
      "display_name": "Python 3"
    },
    "language_info": {
      "name": "python"
    }
  },
  "cells": [
    {
      "cell_type": "markdown",
      "metadata": {
        "id": "view-in-github",
        "colab_type": "text"
      },
      "source": [
        "<a href=\"https://colab.research.google.com/github/Asuskf/intro_macro_python/blob/main/labs/macro_py_lab2.ipynb\" target=\"_parent\"><img src=\"https://colab.research.google.com/assets/colab-badge.svg\" alt=\"Open In Colab\"/></a>"
      ]
    },
    {
      "cell_type": "markdown",
      "source": [
        "# Lab2\n",
        "**Objetivo:** Automatizar la resolución de calculo de consumo"
      ],
      "metadata": {
        "id": "5-7AtDkuP5R8"
      }
    },
    {
      "cell_type": "markdown",
      "source": [
        "## Ejercicio 1\n",
        "1. Si el ingreso disponible ($(YD$)) es `$`100, ¿cuánto será el consumo ($(C$))?\n",
        "   \n",
        "   Usando la fórmula $(C = 50 + 0.6 \\cdot YD$), sustituimos $(YD$) por `$`100:\n",
        "   \n",
        "   $[C = 50 + 0.6 \\cdot 100 = 50 + 60 = $`$`110]\n",
        "   \n",
        "   Por lo tanto, cuando el ingreso disponible es `$`100, el consumo será `$`110.\n",
        "\n",
        "2. Si el ingreso disponible ($(YD$)) aumenta a `$`150, ¿cuánto aumentará el consumo ($(C$))?\n",
        "   \n",
        "   Para encontrar el aumento en el consumo, calculamos el consumo con $(YD$) igual a `$`150 y luego restamos el consumo inicial con $(YD$) igual a `$`100:\n",
        "   \n",
        "   $[C_{{nuevo}} = 50 + 0.6 \\cdot 150 = 50 + 90 =$ `$`140]\n",
        "   \n",
        "   $[{Aumento-en-el-consumo} = C_{{nuevo}} - C_{{inicial}} = 140 - 110 =$ `$`30$]\n",
        "   \n",
        "   El consumo aumentará en `$`30 cuando el ingreso disponible aumente de `$`100 a `$`150.\n",
        "\n",
        "3. Si el consumo autónomo ($(c_0$)) se incrementa a `$`70, ¿cómo cambia el consumo ($(C$))?\n",
        "   \n",
        "   La ecuación del consumo se vuelve:\n",
        "   \n",
        "   $[C = 70 + 0.6 \\cdot YD$]\n",
        "   \n",
        "   Ahora, vamos a comparar el nuevo consumo con el consumo anterior (`$`110) cuando $(YD$) es `$`100:\n",
        "   \n",
        "   $[C_{{nuevo}} = 70 + 0.6 \\cdot 100 = 70 + 60 =$ `$`130]\n",
        "   \n",
        "   El nuevo consumo (`$`130) es mayor que el consumo anterior (`$`110) para el mismo nivel de ingreso disponible.\n"
      ],
      "metadata": {
        "id": "wqBWO3KWDaBK"
      }
    },
    {
      "cell_type": "code",
      "source": [
        "def calcular_consumo(yd, c0, c1):\n",
        "    \"\"\"\n",
        "    Calcula el consumo utilizando la función de consumo del modelo keynesiano.\n",
        "\n",
        "    Parámetros:\n",
        "    yd (float): Ingreso disponible después de impuestos.\n",
        "    c0 (float): Componente autónomo del consumo.\n",
        "    c1 (float): Propensión marginal al consumo.\n",
        "\n",
        "    Returns:\n",
        "    float: El nivel de consumo calculado.\n",
        "    \"\"\"\n",
        "    consumo = c0 + c1 * yd\n",
        "    return consumo\n",
        "\n",
        "# Pregunta 1: Calcular el consumo cuando YD es $100\n",
        "c0 = 50\n",
        "c1 = 0.6\n",
        "yd_1 = 100\n",
        "consumo_1 = calcular_consumo(yd_1, c0, c1)\n",
        "print(f\"Cuando YD es ${yd_1}, el consumo es ${consumo_1}\")\n",
        "\n",
        "# Pregunta 2: Calcular el aumento en el consumo cuando YD aumenta a $150\n",
        "yd_inicial = 100\n",
        "yd_nuevo = 150\n",
        "consumo_inicial = calcular_consumo(yd_inicial, c0, c1)\n",
        "consumo_nuevo = calcular_consumo(yd_nuevo, c0, c1)\n",
        "aumento_consumo = consumo_nuevo - consumo_inicial\n",
        "print(f\"El aumento en el consumo cuando YD aumenta de ${yd_inicial} a ${yd_nuevo} es ${aumento_consumo}\")\n",
        "\n",
        "# Pregunta 3: Calcular el cambio en el consumo cuando c0 aumenta a $70\n",
        "c0_nuevo = 70\n",
        "consumo_nuevo_c0 = calcular_consumo(yd_1, c0_nuevo, c1)\n",
        "print(f\"El cambio en el consumo cuando c0 aumenta de ${c0} a ${c0_nuevo} es ${consumo_nuevo_c0 - consumo_1}\")\n"
      ],
      "metadata": {
        "colab": {
          "base_uri": "https://localhost:8080/"
        },
        "id": "koKPq9w2Ddc9",
        "outputId": "eff19f4c-ea5c-4d19-9bc7-0b39d974bec2"
      },
      "execution_count": null,
      "outputs": [
        {
          "output_type": "stream",
          "name": "stdout",
          "text": [
            "Cuando YD es $100, el consumo es $110.0\n",
            "El aumento en el consumo cuando YD aumenta de $100 a $150 es $30.0\n",
            "El cambio en el consumo cuando c0 aumenta de $50 a $70 es $20.0\n"
          ]
        }
      ]
    }
  ]
}